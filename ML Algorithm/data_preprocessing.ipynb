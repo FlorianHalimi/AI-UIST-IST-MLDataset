{
 "cells": [
  {
   "cell_type": "markdown",
   "metadata": {},
   "source": [
    "#### Library Imports\n",
    "\n"
   ]
  },
  {
   "cell_type": "code",
   "execution_count": 43,
   "metadata": {},
   "outputs": [],
   "source": [
    "import pandas as pd\n",
    "import re\n",
    "from sklearn.model_selection import train_test_split\n",
    "from sklearn.impute import SimpleImputer\n",
    "from imblearn.over_sampling import SMOTE"
   ]
  },
  {
   "cell_type": "markdown",
   "metadata": {},
   "source": [
    "#### Loading Data"
   ]
  },
  {
   "cell_type": "code",
   "execution_count": 44,
   "metadata": {},
   "outputs": [],
   "source": [
    "job_postings = pd.read_csv('data/job_postings.csv')\n",
    "job_skills = pd.read_csv('data/job_details/job_skills.csv')\n",
    "\n",
    "companies = pd.read_csv('data/company_details/companies.csv')\n",
    "mapping_skills = pd.read_csv('data/maps/skills.csv')\n",
    "employee_count = pd.read_csv('data/company_details/employee_counts.csv')"
   ]
  },
  {
   "cell_type": "markdown",
   "metadata": {},
   "source": [
    "#### Dataset summary"
   ]
  },
  {
   "cell_type": "code",
   "execution_count": 45,
   "metadata": {},
   "outputs": [
    {
     "data": {
      "text/plain": [
       "{'job_postings': 33246, 'job_skills': 32422, 'companies': 11361, 'skills': 35}"
      ]
     },
     "execution_count": 45,
     "metadata": {},
     "output_type": "execute_result"
    }
   ],
   "source": [
    "unique_values = {\n",
    "    'job_postings': job_postings['job_id'].nunique(), # details of job postings\n",
    "    'job_skills': job_skills['job_id'].nunique(), # job posting with the required skill abbreviated\n",
    "    'companies': companies['company_id'].nunique(), # information on the company\n",
    "    'skills': mapping_skills['skill_name'].nunique() # maps between skill abbreviations and full skill names\n",
    "    }\n",
    "unique_values"
   ]
  },
  {
   "cell_type": "markdown",
   "metadata": {},
   "source": [
    "#### Handling the integration of job_skills with mapping_skills\n",
    "Merging job_skills with mapping_skills"
   ]
  },
  {
   "cell_type": "code",
   "execution_count": 46,
   "metadata": {},
   "outputs": [
    {
     "data": {
      "text/html": [
       "<div>\n",
       "<style scoped>\n",
       "    .dataframe tbody tr th:only-of-type {\n",
       "        vertical-align: middle;\n",
       "    }\n",
       "\n",
       "    .dataframe tbody tr th {\n",
       "        vertical-align: top;\n",
       "    }\n",
       "\n",
       "    .dataframe thead th {\n",
       "        text-align: right;\n",
       "    }\n",
       "</style>\n",
       "<table border=\"1\" class=\"dataframe\">\n",
       "  <thead>\n",
       "    <tr style=\"text-align: right;\">\n",
       "      <th></th>\n",
       "      <th>job_id</th>\n",
       "      <th>skill_name</th>\n",
       "    </tr>\n",
       "  </thead>\n",
       "  <tbody>\n",
       "    <tr>\n",
       "      <th>0</th>\n",
       "      <td>3690843087</td>\n",
       "      <td>Accounting/Auditing</td>\n",
       "    </tr>\n",
       "    <tr>\n",
       "      <th>1</th>\n",
       "      <td>3690843087</td>\n",
       "      <td>Finance</td>\n",
       "    </tr>\n",
       "    <tr>\n",
       "      <th>2</th>\n",
       "      <td>3691763971</td>\n",
       "      <td>Management</td>\n",
       "    </tr>\n",
       "    <tr>\n",
       "      <th>3</th>\n",
       "      <td>3691763971</td>\n",
       "      <td>Manufacturing</td>\n",
       "    </tr>\n",
       "    <tr>\n",
       "      <th>4</th>\n",
       "      <td>3691775263</td>\n",
       "      <td>Management</td>\n",
       "    </tr>\n",
       "  </tbody>\n",
       "</table>\n",
       "</div>"
      ],
      "text/plain": [
       "       job_id           skill_name\n",
       "0  3690843087  Accounting/Auditing\n",
       "1  3690843087              Finance\n",
       "2  3691763971           Management\n",
       "3  3691763971        Manufacturing\n",
       "4  3691775263           Management"
      ]
     },
     "execution_count": 46,
     "metadata": {},
     "output_type": "execute_result"
    }
   ],
   "source": [
    "# Merging job_skills with mapping_skills to replace skill_abr with skill_name\n",
    "merged_skills = pd.merge(job_skills, mapping_skills, on='skill_abr', how='left')\n",
    "merged_skills = merged_skills.drop('skill_abr', axis=1)\n",
    "merged_skills.head()"
   ]
  },
  {
   "cell_type": "markdown",
   "metadata": {},
   "source": [
    "Aggregating Skills by Job ID"
   ]
  },
  {
   "cell_type": "code",
   "execution_count": 47,
   "metadata": {},
   "outputs": [
    {
     "name": "stdout",
     "output_type": "stream",
     "text": [
      "           job_id                                    skill_name\n",
      "0         3958427  Design, Art/Creative, Information Technology\n",
      "1        85008768                   Sales, Business Development\n",
      "2       102339515                   Business Development, Sales\n",
      "3       108965123                                Administrative\n",
      "4       133114754                   Sales, Business Development\n",
      "...           ...                                           ...\n",
      "32417  3757937095                        Information Technology\n",
      "32418  3757938018                     Management, Manufacturing\n",
      "32419  3757938019                                   Engineering\n",
      "32420  3757940025                     Management, Manufacturing\n",
      "32421  3757940104                                         Other\n",
      "\n",
      "[32422 rows x 2 columns]\n"
     ]
    }
   ],
   "source": [
    "# Aggregation process is done to handle duplicate 'job_id's resulting from multiple skills per job:\n",
    "\n",
    "# Grouping by 'job_id' and concatenating 'skill_name' values\n",
    "grouped_skills = merged_skills.groupby('job_id')['skill_name'].agg(lambda x: ', '.join(x)).reset_index()\n",
    "\n",
    "# Display the resulting DataFrame with unique 'job_id' rows and concatenated skills\n",
    "print(grouped_skills)"
   ]
  },
  {
   "cell_type": "markdown",
   "metadata": {},
   "source": [
    "#### Handling the integration of job_postings with grouped_skills\n",
    "Checking for missing data in Company ID's"
   ]
  },
  {
   "cell_type": "code",
   "execution_count": 48,
   "metadata": {},
   "outputs": [
    {
     "data": {
      "text/plain": [
       "654"
      ]
     },
     "execution_count": 48,
     "metadata": {},
     "output_type": "execute_result"
    }
   ],
   "source": [
    "missing_id = job_postings['company_id'].isnull().sum()\n",
    "missing_id"
   ]
  },
  {
   "cell_type": "markdown",
   "metadata": {},
   "source": [
    "Dropping rows with empty company_id's"
   ]
  },
  {
   "cell_type": "code",
   "execution_count": 49,
   "metadata": {},
   "outputs": [
    {
     "data": {
      "text/plain": [
       "(33246, 28)"
      ]
     },
     "execution_count": 49,
     "metadata": {},
     "output_type": "execute_result"
    }
   ],
   "source": [
    "# Shape of dataset before removing missing values\n",
    "job_postings.shape"
   ]
  },
  {
   "cell_type": "code",
   "execution_count": 50,
   "metadata": {},
   "outputs": [
    {
     "data": {
      "text/plain": [
       "(32592, 28)"
      ]
     },
     "execution_count": 50,
     "metadata": {},
     "output_type": "execute_result"
    }
   ],
   "source": [
    "job_postings.dropna(subset=['company_id'], inplace=True)\n",
    "job_postings.shape"
   ]
  },
  {
   "cell_type": "markdown",
   "metadata": {},
   "source": [
    "Merging job_postings with grouped_skills"
   ]
  },
  {
   "cell_type": "code",
   "execution_count": 51,
   "metadata": {},
   "outputs": [],
   "source": [
    "merged_job_postings_skills = pd.merge(job_postings, grouped_skills, on='job_id', how='left')"
   ]
  },
  {
   "cell_type": "markdown",
   "metadata": {},
   "source": [
    "Converting company data type to int from float"
   ]
  },
  {
   "cell_type": "code",
   "execution_count": 52,
   "metadata": {},
   "outputs": [],
   "source": [
    "# Because there used to be missing values in company id's, NaN was considered as float value, therefore all data in the column was converted\n",
    "# to float from int\n",
    "if 'company_id' in merged_job_postings_skills.columns:\n",
    "    merged_job_postings_skills['company_id'] = merged_job_postings_skills['company_id'].astype('Int64')"
   ]
  },
  {
   "cell_type": "code",
   "execution_count": 53,
   "metadata": {},
   "outputs": [
    {
     "data": {
      "text/html": [
       "<div>\n",
       "<style scoped>\n",
       "    .dataframe tbody tr th:only-of-type {\n",
       "        vertical-align: middle;\n",
       "    }\n",
       "\n",
       "    .dataframe tbody tr th {\n",
       "        vertical-align: top;\n",
       "    }\n",
       "\n",
       "    .dataframe thead th {\n",
       "        text-align: right;\n",
       "    }\n",
       "</style>\n",
       "<table border=\"1\" class=\"dataframe\">\n",
       "  <thead>\n",
       "    <tr style=\"text-align: right;\">\n",
       "      <th></th>\n",
       "      <th>job_id</th>\n",
       "      <th>company_id</th>\n",
       "      <th>title</th>\n",
       "      <th>description</th>\n",
       "      <th>max_salary</th>\n",
       "      <th>med_salary</th>\n",
       "      <th>min_salary</th>\n",
       "      <th>pay_period</th>\n",
       "      <th>formatted_work_type</th>\n",
       "      <th>location</th>\n",
       "      <th>...</th>\n",
       "      <th>formatted_experience_level</th>\n",
       "      <th>skills_desc</th>\n",
       "      <th>listed_time</th>\n",
       "      <th>posting_domain</th>\n",
       "      <th>sponsored</th>\n",
       "      <th>work_type</th>\n",
       "      <th>currency</th>\n",
       "      <th>compensation_type</th>\n",
       "      <th>scraped</th>\n",
       "      <th>skill_name</th>\n",
       "    </tr>\n",
       "  </thead>\n",
       "  <tbody>\n",
       "    <tr>\n",
       "      <th>0</th>\n",
       "      <td>3757940104</td>\n",
       "      <td>553718</td>\n",
       "      <td>Hearing Care Provider</td>\n",
       "      <td>Overview\\n\\nHearingLife is a national hearing ...</td>\n",
       "      <td>NaN</td>\n",
       "      <td>5250.00</td>\n",
       "      <td>NaN</td>\n",
       "      <td>MONTHLY</td>\n",
       "      <td>Full-time</td>\n",
       "      <td>Little River, SC</td>\n",
       "      <td>...</td>\n",
       "      <td>Entry level</td>\n",
       "      <td>NaN</td>\n",
       "      <td>1.699090e+12</td>\n",
       "      <td>careers-demant.icims.com</td>\n",
       "      <td>0</td>\n",
       "      <td>FULL_TIME</td>\n",
       "      <td>USD</td>\n",
       "      <td>BASE_SALARY</td>\n",
       "      <td>1699138101</td>\n",
       "      <td>Other</td>\n",
       "    </tr>\n",
       "    <tr>\n",
       "      <th>1</th>\n",
       "      <td>3757940025</td>\n",
       "      <td>2192142</td>\n",
       "      <td>Shipping &amp; Receiving Associate 2nd shift (Beav...</td>\n",
       "      <td>Metalcraft of Mayville\\nMetalcraft of Mayville...</td>\n",
       "      <td>NaN</td>\n",
       "      <td>NaN</td>\n",
       "      <td>NaN</td>\n",
       "      <td>NaN</td>\n",
       "      <td>Full-time</td>\n",
       "      <td>Beaver Dam, WI</td>\n",
       "      <td>...</td>\n",
       "      <td>NaN</td>\n",
       "      <td>NaN</td>\n",
       "      <td>1.699080e+12</td>\n",
       "      <td>www.click2apply.net</td>\n",
       "      <td>0</td>\n",
       "      <td>FULL_TIME</td>\n",
       "      <td>NaN</td>\n",
       "      <td>NaN</td>\n",
       "      <td>1699085420</td>\n",
       "      <td>Management, Manufacturing</td>\n",
       "    </tr>\n",
       "    <tr>\n",
       "      <th>2</th>\n",
       "      <td>3757938019</td>\n",
       "      <td>474443</td>\n",
       "      <td>Manager, Engineering</td>\n",
       "      <td>\\nThe TSUBAKI name is synonymous with excellen...</td>\n",
       "      <td>NaN</td>\n",
       "      <td>NaN</td>\n",
       "      <td>NaN</td>\n",
       "      <td>NaN</td>\n",
       "      <td>Full-time</td>\n",
       "      <td>Bessemer, AL</td>\n",
       "      <td>...</td>\n",
       "      <td>NaN</td>\n",
       "      <td>Bachelor's Degree in Mechanical Engineering pr...</td>\n",
       "      <td>1.699080e+12</td>\n",
       "      <td>www.click2apply.net</td>\n",
       "      <td>0</td>\n",
       "      <td>FULL_TIME</td>\n",
       "      <td>NaN</td>\n",
       "      <td>NaN</td>\n",
       "      <td>1699085644</td>\n",
       "      <td>Engineering</td>\n",
       "    </tr>\n",
       "    <tr>\n",
       "      <th>3</th>\n",
       "      <td>3757938018</td>\n",
       "      <td>18213359</td>\n",
       "      <td>Cook</td>\n",
       "      <td>descriptionTitle\\n\\n Looking for a great oppor...</td>\n",
       "      <td>NaN</td>\n",
       "      <td>22.27</td>\n",
       "      <td>NaN</td>\n",
       "      <td>HOURLY</td>\n",
       "      <td>Full-time</td>\n",
       "      <td>Aliso Viejo, CA</td>\n",
       "      <td>...</td>\n",
       "      <td>Entry level</td>\n",
       "      <td>NaN</td>\n",
       "      <td>1.699080e+12</td>\n",
       "      <td>jobs.apploi.com</td>\n",
       "      <td>0</td>\n",
       "      <td>FULL_TIME</td>\n",
       "      <td>USD</td>\n",
       "      <td>BASE_SALARY</td>\n",
       "      <td>1699087461</td>\n",
       "      <td>Management, Manufacturing</td>\n",
       "    </tr>\n",
       "    <tr>\n",
       "      <th>4</th>\n",
       "      <td>3757937095</td>\n",
       "      <td>437225</td>\n",
       "      <td>Principal Cloud Security Architect (Remote)</td>\n",
       "      <td>Job Summary\\nAt iHerb, we are on a mission to ...</td>\n",
       "      <td>275834.0</td>\n",
       "      <td>NaN</td>\n",
       "      <td>205956.0</td>\n",
       "      <td>YEARLY</td>\n",
       "      <td>Full-time</td>\n",
       "      <td>United States</td>\n",
       "      <td>...</td>\n",
       "      <td>Mid-Senior level</td>\n",
       "      <td>NaN</td>\n",
       "      <td>1.699090e+12</td>\n",
       "      <td>careers.iherb.com</td>\n",
       "      <td>0</td>\n",
       "      <td>FULL_TIME</td>\n",
       "      <td>USD</td>\n",
       "      <td>BASE_SALARY</td>\n",
       "      <td>1699085346</td>\n",
       "      <td>Information Technology</td>\n",
       "    </tr>\n",
       "  </tbody>\n",
       "</table>\n",
       "<p>5 rows × 29 columns</p>\n",
       "</div>"
      ],
      "text/plain": [
       "       job_id  company_id                                              title  \\\n",
       "0  3757940104      553718                              Hearing Care Provider   \n",
       "1  3757940025     2192142  Shipping & Receiving Associate 2nd shift (Beav...   \n",
       "2  3757938019      474443                               Manager, Engineering   \n",
       "3  3757938018    18213359                                               Cook   \n",
       "4  3757937095      437225        Principal Cloud Security Architect (Remote)   \n",
       "\n",
       "                                         description  max_salary  med_salary  \\\n",
       "0  Overview\\n\\nHearingLife is a national hearing ...         NaN     5250.00   \n",
       "1  Metalcraft of Mayville\\nMetalcraft of Mayville...         NaN         NaN   \n",
       "2  \\nThe TSUBAKI name is synonymous with excellen...         NaN         NaN   \n",
       "3  descriptionTitle\\n\\n Looking for a great oppor...         NaN       22.27   \n",
       "4  Job Summary\\nAt iHerb, we are on a mission to ...    275834.0         NaN   \n",
       "\n",
       "   min_salary pay_period formatted_work_type          location  ...  \\\n",
       "0         NaN    MONTHLY           Full-time  Little River, SC  ...   \n",
       "1         NaN        NaN           Full-time    Beaver Dam, WI  ...   \n",
       "2         NaN        NaN           Full-time      Bessemer, AL  ...   \n",
       "3         NaN     HOURLY           Full-time   Aliso Viejo, CA  ...   \n",
       "4    205956.0     YEARLY           Full-time     United States  ...   \n",
       "\n",
       "   formatted_experience_level  \\\n",
       "0                 Entry level   \n",
       "1                         NaN   \n",
       "2                         NaN   \n",
       "3                 Entry level   \n",
       "4            Mid-Senior level   \n",
       "\n",
       "                                         skills_desc   listed_time  \\\n",
       "0                                                NaN  1.699090e+12   \n",
       "1                                                NaN  1.699080e+12   \n",
       "2  Bachelor's Degree in Mechanical Engineering pr...  1.699080e+12   \n",
       "3                                                NaN  1.699080e+12   \n",
       "4                                                NaN  1.699090e+12   \n",
       "\n",
       "             posting_domain sponsored  work_type currency  compensation_type  \\\n",
       "0  careers-demant.icims.com         0  FULL_TIME      USD        BASE_SALARY   \n",
       "1       www.click2apply.net         0  FULL_TIME      NaN                NaN   \n",
       "2       www.click2apply.net         0  FULL_TIME      NaN                NaN   \n",
       "3           jobs.apploi.com         0  FULL_TIME      USD        BASE_SALARY   \n",
       "4         careers.iherb.com         0  FULL_TIME      USD        BASE_SALARY   \n",
       "\n",
       "      scraped                 skill_name  \n",
       "0  1699138101                      Other  \n",
       "1  1699085420  Management, Manufacturing  \n",
       "2  1699085644                Engineering  \n",
       "3  1699087461  Management, Manufacturing  \n",
       "4  1699085346     Information Technology  \n",
       "\n",
       "[5 rows x 29 columns]"
      ]
     },
     "execution_count": 53,
     "metadata": {},
     "output_type": "execute_result"
    }
   ],
   "source": [
    "merged_job_postings_skills.head()"
   ]
  },
  {
   "cell_type": "markdown",
   "metadata": {},
   "source": [
    "Reducing dimensionality of merged_job_postings_skills by dropping unnecessary columns"
   ]
  },
  {
   "cell_type": "code",
   "execution_count": 54,
   "metadata": {},
   "outputs": [
    {
     "data": {
      "text/html": [
       "<div>\n",
       "<style scoped>\n",
       "    .dataframe tbody tr th:only-of-type {\n",
       "        vertical-align: middle;\n",
       "    }\n",
       "\n",
       "    .dataframe tbody tr th {\n",
       "        vertical-align: top;\n",
       "    }\n",
       "\n",
       "    .dataframe thead th {\n",
       "        text-align: right;\n",
       "    }\n",
       "</style>\n",
       "<table border=\"1\" class=\"dataframe\">\n",
       "  <thead>\n",
       "    <tr style=\"text-align: right;\">\n",
       "      <th></th>\n",
       "      <th>job_id</th>\n",
       "      <th>company_id</th>\n",
       "      <th>formatted_experience_level</th>\n",
       "      <th>skill_name</th>\n",
       "    </tr>\n",
       "  </thead>\n",
       "  <tbody>\n",
       "    <tr>\n",
       "      <th>0</th>\n",
       "      <td>3757940104</td>\n",
       "      <td>553718</td>\n",
       "      <td>Entry level</td>\n",
       "      <td>Other</td>\n",
       "    </tr>\n",
       "    <tr>\n",
       "      <th>1</th>\n",
       "      <td>3757940025</td>\n",
       "      <td>2192142</td>\n",
       "      <td>NaN</td>\n",
       "      <td>Management, Manufacturing</td>\n",
       "    </tr>\n",
       "    <tr>\n",
       "      <th>2</th>\n",
       "      <td>3757938019</td>\n",
       "      <td>474443</td>\n",
       "      <td>NaN</td>\n",
       "      <td>Engineering</td>\n",
       "    </tr>\n",
       "    <tr>\n",
       "      <th>3</th>\n",
       "      <td>3757938018</td>\n",
       "      <td>18213359</td>\n",
       "      <td>Entry level</td>\n",
       "      <td>Management, Manufacturing</td>\n",
       "    </tr>\n",
       "    <tr>\n",
       "      <th>4</th>\n",
       "      <td>3757937095</td>\n",
       "      <td>437225</td>\n",
       "      <td>Mid-Senior level</td>\n",
       "      <td>Information Technology</td>\n",
       "    </tr>\n",
       "  </tbody>\n",
       "</table>\n",
       "</div>"
      ],
      "text/plain": [
       "       job_id  company_id formatted_experience_level  \\\n",
       "0  3757940104      553718                Entry level   \n",
       "1  3757940025     2192142                        NaN   \n",
       "2  3757938019      474443                        NaN   \n",
       "3  3757938018    18213359                Entry level   \n",
       "4  3757937095      437225           Mid-Senior level   \n",
       "\n",
       "                  skill_name  \n",
       "0                      Other  \n",
       "1  Management, Manufacturing  \n",
       "2                Engineering  \n",
       "3  Management, Manufacturing  \n",
       "4     Information Technology  "
      ]
     },
     "execution_count": 54,
     "metadata": {},
     "output_type": "execute_result"
    }
   ],
   "source": [
    "columns_to_drop = ['description', 'max_salary','med_salary','min_salary','location',\n",
    "                   'pay_period', 'applies', 'formatted_work_type', 'remote_allowed',\n",
    "                   'job_posting_url','views','title','application_url','application_type',\n",
    "                   'expiry','skills_desc','posting_domain','sponsored','original_listed_time',\n",
    "                   'work_type','currency','compensation_type','scraped','closed_time','listed_time'\n",
    "                   ]\n",
    "merged_job_postings_skills= merged_job_postings_skills.drop(columns=columns_to_drop,axis=1)\n",
    "merged_job_postings_skills.head()\n"
   ]
  },
  {
   "cell_type": "markdown",
   "metadata": {},
   "source": [
    "#### Handling the integration of merged_job_postings_skills with companies\n",
    "Merging merged_job_postings_skills with companies\n"
   ]
  },
  {
   "cell_type": "code",
   "execution_count": 55,
   "metadata": {},
   "outputs": [
    {
     "data": {
      "text/html": [
       "<div>\n",
       "<style scoped>\n",
       "    .dataframe tbody tr th:only-of-type {\n",
       "        vertical-align: middle;\n",
       "    }\n",
       "\n",
       "    .dataframe tbody tr th {\n",
       "        vertical-align: top;\n",
       "    }\n",
       "\n",
       "    .dataframe thead th {\n",
       "        text-align: right;\n",
       "    }\n",
       "</style>\n",
       "<table border=\"1\" class=\"dataframe\">\n",
       "  <thead>\n",
       "    <tr style=\"text-align: right;\">\n",
       "      <th></th>\n",
       "      <th>job_id</th>\n",
       "      <th>company_id</th>\n",
       "      <th>formatted_experience_level</th>\n",
       "      <th>skill_name</th>\n",
       "      <th>name</th>\n",
       "      <th>description</th>\n",
       "      <th>company_size</th>\n",
       "      <th>state</th>\n",
       "      <th>country</th>\n",
       "      <th>city</th>\n",
       "      <th>zip_code</th>\n",
       "      <th>address</th>\n",
       "      <th>url</th>\n",
       "    </tr>\n",
       "  </thead>\n",
       "  <tbody>\n",
       "    <tr>\n",
       "      <th>0</th>\n",
       "      <td>3757940104</td>\n",
       "      <td>553718</td>\n",
       "      <td>Entry level</td>\n",
       "      <td>Other</td>\n",
       "      <td>HearingLife</td>\n",
       "      <td>HearingLife is a national hearing care company...</td>\n",
       "      <td>5.0</td>\n",
       "      <td>New Jersey</td>\n",
       "      <td>US</td>\n",
       "      <td>Somerset</td>\n",
       "      <td>08873</td>\n",
       "      <td>580 Howard Avenue</td>\n",
       "      <td>https://www.linkedin.com/company/hearing-life</td>\n",
       "    </tr>\n",
       "    <tr>\n",
       "      <th>1</th>\n",
       "      <td>3757940025</td>\n",
       "      <td>2192142</td>\n",
       "      <td>NaN</td>\n",
       "      <td>Management, Manufacturing</td>\n",
       "      <td>Metalcraft of Mayville, Inc.</td>\n",
       "      <td>Headquartered in Mayville, Wisconsin, Metalcra...</td>\n",
       "      <td>4.0</td>\n",
       "      <td>WI</td>\n",
       "      <td>US</td>\n",
       "      <td>Mayville</td>\n",
       "      <td>53050</td>\n",
       "      <td>1000 Metalcraft Drive</td>\n",
       "      <td>https://www.linkedin.com/company/metalcraft-of...</td>\n",
       "    </tr>\n",
       "    <tr>\n",
       "      <th>2</th>\n",
       "      <td>3757938019</td>\n",
       "      <td>474443</td>\n",
       "      <td>NaN</td>\n",
       "      <td>Engineering</td>\n",
       "      <td>U.S. Tsubaki Power Transmission, LLC</td>\n",
       "      <td>U.S. Tsubaki Power Transmission, LLC is a subs...</td>\n",
       "      <td>4.0</td>\n",
       "      <td>Illinois</td>\n",
       "      <td>US</td>\n",
       "      <td>Wheeling</td>\n",
       "      <td>60090</td>\n",
       "      <td>301E Marquardt Drive</td>\n",
       "      <td>https://www.linkedin.com/company/u.s.-tsubaki-...</td>\n",
       "    </tr>\n",
       "    <tr>\n",
       "      <th>3</th>\n",
       "      <td>3757938018</td>\n",
       "      <td>18213359</td>\n",
       "      <td>Entry level</td>\n",
       "      <td>Management, Manufacturing</td>\n",
       "      <td>Episcopal Communities &amp; Services</td>\n",
       "      <td>Episcopal Communities &amp; Services (ECS) has bec...</td>\n",
       "      <td>4.0</td>\n",
       "      <td>California</td>\n",
       "      <td>US</td>\n",
       "      <td>Altadena</td>\n",
       "      <td>91001</td>\n",
       "      <td>2212 El Molino Ave</td>\n",
       "      <td>https://www.linkedin.com/company/episcopal-com...</td>\n",
       "    </tr>\n",
       "    <tr>\n",
       "      <th>4</th>\n",
       "      <td>3757937095</td>\n",
       "      <td>437225</td>\n",
       "      <td>Mid-Senior level</td>\n",
       "      <td>Information Technology</td>\n",
       "      <td>iHerb, LLC</td>\n",
       "      <td>iHerb is on a mission to make health and welln...</td>\n",
       "      <td>5.0</td>\n",
       "      <td>California</td>\n",
       "      <td>US</td>\n",
       "      <td>Irvine</td>\n",
       "      <td>92618</td>\n",
       "      <td>17400 Laguna Canyon Rd</td>\n",
       "      <td>https://www.linkedin.com/company/iherb</td>\n",
       "    </tr>\n",
       "  </tbody>\n",
       "</table>\n",
       "</div>"
      ],
      "text/plain": [
       "       job_id  company_id formatted_experience_level  \\\n",
       "0  3757940104      553718                Entry level   \n",
       "1  3757940025     2192142                        NaN   \n",
       "2  3757938019      474443                        NaN   \n",
       "3  3757938018    18213359                Entry level   \n",
       "4  3757937095      437225           Mid-Senior level   \n",
       "\n",
       "                  skill_name                                  name  \\\n",
       "0                      Other                           HearingLife   \n",
       "1  Management, Manufacturing          Metalcraft of Mayville, Inc.   \n",
       "2                Engineering  U.S. Tsubaki Power Transmission, LLC   \n",
       "3  Management, Manufacturing      Episcopal Communities & Services   \n",
       "4     Information Technology                            iHerb, LLC   \n",
       "\n",
       "                                         description  company_size  \\\n",
       "0  HearingLife is a national hearing care company...           5.0   \n",
       "1  Headquartered in Mayville, Wisconsin, Metalcra...           4.0   \n",
       "2  U.S. Tsubaki Power Transmission, LLC is a subs...           4.0   \n",
       "3  Episcopal Communities & Services (ECS) has bec...           4.0   \n",
       "4  iHerb is on a mission to make health and welln...           5.0   \n",
       "\n",
       "        state country      city zip_code                 address  \\\n",
       "0  New Jersey      US  Somerset    08873       580 Howard Avenue   \n",
       "1          WI      US  Mayville    53050   1000 Metalcraft Drive   \n",
       "2    Illinois      US  Wheeling    60090    301E Marquardt Drive   \n",
       "3  California      US  Altadena    91001      2212 El Molino Ave   \n",
       "4  California      US    Irvine    92618  17400 Laguna Canyon Rd   \n",
       "\n",
       "                                                 url  \n",
       "0      https://www.linkedin.com/company/hearing-life  \n",
       "1  https://www.linkedin.com/company/metalcraft-of...  \n",
       "2  https://www.linkedin.com/company/u.s.-tsubaki-...  \n",
       "3  https://www.linkedin.com/company/episcopal-com...  \n",
       "4             https://www.linkedin.com/company/iherb  "
      ]
     },
     "execution_count": 55,
     "metadata": {},
     "output_type": "execute_result"
    }
   ],
   "source": [
    "merged_data= pd.merge(merged_job_postings_skills, companies, on='company_id', how='left')\n",
    "merged_data.head()"
   ]
  },
  {
   "cell_type": "markdown",
   "metadata": {},
   "source": [
    "Reducing dimensionality by dropping unnecessary columns"
   ]
  },
  {
   "cell_type": "code",
   "execution_count": 56,
   "metadata": {},
   "outputs": [
    {
     "data": {
      "text/html": [
       "<div>\n",
       "<style scoped>\n",
       "    .dataframe tbody tr th:only-of-type {\n",
       "        vertical-align: middle;\n",
       "    }\n",
       "\n",
       "    .dataframe tbody tr th {\n",
       "        vertical-align: top;\n",
       "    }\n",
       "\n",
       "    .dataframe thead th {\n",
       "        text-align: right;\n",
       "    }\n",
       "</style>\n",
       "<table border=\"1\" class=\"dataframe\">\n",
       "  <thead>\n",
       "    <tr style=\"text-align: right;\">\n",
       "      <th></th>\n",
       "      <th>job_id</th>\n",
       "      <th>company_id</th>\n",
       "      <th>formatted_experience_level</th>\n",
       "      <th>skill_name</th>\n",
       "      <th>name</th>\n",
       "      <th>state</th>\n",
       "      <th>country</th>\n",
       "      <th>city</th>\n",
       "    </tr>\n",
       "  </thead>\n",
       "  <tbody>\n",
       "    <tr>\n",
       "      <th>0</th>\n",
       "      <td>3757940104</td>\n",
       "      <td>553718</td>\n",
       "      <td>Entry level</td>\n",
       "      <td>Other</td>\n",
       "      <td>HearingLife</td>\n",
       "      <td>New Jersey</td>\n",
       "      <td>US</td>\n",
       "      <td>Somerset</td>\n",
       "    </tr>\n",
       "    <tr>\n",
       "      <th>1</th>\n",
       "      <td>3757940025</td>\n",
       "      <td>2192142</td>\n",
       "      <td>NaN</td>\n",
       "      <td>Management, Manufacturing</td>\n",
       "      <td>Metalcraft of Mayville, Inc.</td>\n",
       "      <td>WI</td>\n",
       "      <td>US</td>\n",
       "      <td>Mayville</td>\n",
       "    </tr>\n",
       "    <tr>\n",
       "      <th>2</th>\n",
       "      <td>3757938019</td>\n",
       "      <td>474443</td>\n",
       "      <td>NaN</td>\n",
       "      <td>Engineering</td>\n",
       "      <td>U.S. Tsubaki Power Transmission, LLC</td>\n",
       "      <td>Illinois</td>\n",
       "      <td>US</td>\n",
       "      <td>Wheeling</td>\n",
       "    </tr>\n",
       "    <tr>\n",
       "      <th>3</th>\n",
       "      <td>3757938018</td>\n",
       "      <td>18213359</td>\n",
       "      <td>Entry level</td>\n",
       "      <td>Management, Manufacturing</td>\n",
       "      <td>Episcopal Communities &amp; Services</td>\n",
       "      <td>California</td>\n",
       "      <td>US</td>\n",
       "      <td>Altadena</td>\n",
       "    </tr>\n",
       "    <tr>\n",
       "      <th>4</th>\n",
       "      <td>3757937095</td>\n",
       "      <td>437225</td>\n",
       "      <td>Mid-Senior level</td>\n",
       "      <td>Information Technology</td>\n",
       "      <td>iHerb, LLC</td>\n",
       "      <td>California</td>\n",
       "      <td>US</td>\n",
       "      <td>Irvine</td>\n",
       "    </tr>\n",
       "  </tbody>\n",
       "</table>\n",
       "</div>"
      ],
      "text/plain": [
       "       job_id  company_id formatted_experience_level  \\\n",
       "0  3757940104      553718                Entry level   \n",
       "1  3757940025     2192142                        NaN   \n",
       "2  3757938019      474443                        NaN   \n",
       "3  3757938018    18213359                Entry level   \n",
       "4  3757937095      437225           Mid-Senior level   \n",
       "\n",
       "                  skill_name                                  name  \\\n",
       "0                      Other                           HearingLife   \n",
       "1  Management, Manufacturing          Metalcraft of Mayville, Inc.   \n",
       "2                Engineering  U.S. Tsubaki Power Transmission, LLC   \n",
       "3  Management, Manufacturing      Episcopal Communities & Services   \n",
       "4     Information Technology                            iHerb, LLC   \n",
       "\n",
       "        state country      city  \n",
       "0  New Jersey      US  Somerset  \n",
       "1          WI      US  Mayville  \n",
       "2    Illinois      US  Wheeling  \n",
       "3  California      US  Altadena  \n",
       "4  California      US    Irvine  "
      ]
     },
     "execution_count": 56,
     "metadata": {},
     "output_type": "execute_result"
    }
   ],
   "source": [
    "columns_to_drop = ['description','company_size','zip_code','url','address']\n",
    "merged_data= merged_data.drop(columns=columns_to_drop,axis=1)\n",
    "merged_data.head()"
   ]
  },
  {
   "cell_type": "markdown",
   "metadata": {},
   "source": [
    "Displaying data in a better order"
   ]
  },
  {
   "cell_type": "code",
   "execution_count": 57,
   "metadata": {},
   "outputs": [
    {
     "data": {
      "text/html": [
       "<div>\n",
       "<style scoped>\n",
       "    .dataframe tbody tr th:only-of-type {\n",
       "        vertical-align: middle;\n",
       "    }\n",
       "\n",
       "    .dataframe tbody tr th {\n",
       "        vertical-align: top;\n",
       "    }\n",
       "\n",
       "    .dataframe thead th {\n",
       "        text-align: right;\n",
       "    }\n",
       "</style>\n",
       "<table border=\"1\" class=\"dataframe\">\n",
       "  <thead>\n",
       "    <tr style=\"text-align: right;\">\n",
       "      <th></th>\n",
       "      <th>job_id</th>\n",
       "      <th>company_id</th>\n",
       "      <th>name</th>\n",
       "      <th>state</th>\n",
       "      <th>country</th>\n",
       "      <th>city</th>\n",
       "      <th>skill_name</th>\n",
       "      <th>formatted_experience_level</th>\n",
       "    </tr>\n",
       "  </thead>\n",
       "  <tbody>\n",
       "    <tr>\n",
       "      <th>0</th>\n",
       "      <td>3757940104</td>\n",
       "      <td>553718</td>\n",
       "      <td>HearingLife</td>\n",
       "      <td>New Jersey</td>\n",
       "      <td>US</td>\n",
       "      <td>Somerset</td>\n",
       "      <td>Other</td>\n",
       "      <td>Entry level</td>\n",
       "    </tr>\n",
       "    <tr>\n",
       "      <th>1</th>\n",
       "      <td>3757940025</td>\n",
       "      <td>2192142</td>\n",
       "      <td>Metalcraft of Mayville, Inc.</td>\n",
       "      <td>WI</td>\n",
       "      <td>US</td>\n",
       "      <td>Mayville</td>\n",
       "      <td>Management, Manufacturing</td>\n",
       "      <td>NaN</td>\n",
       "    </tr>\n",
       "    <tr>\n",
       "      <th>2</th>\n",
       "      <td>3757938019</td>\n",
       "      <td>474443</td>\n",
       "      <td>U.S. Tsubaki Power Transmission, LLC</td>\n",
       "      <td>Illinois</td>\n",
       "      <td>US</td>\n",
       "      <td>Wheeling</td>\n",
       "      <td>Engineering</td>\n",
       "      <td>NaN</td>\n",
       "    </tr>\n",
       "    <tr>\n",
       "      <th>3</th>\n",
       "      <td>3757938018</td>\n",
       "      <td>18213359</td>\n",
       "      <td>Episcopal Communities &amp; Services</td>\n",
       "      <td>California</td>\n",
       "      <td>US</td>\n",
       "      <td>Altadena</td>\n",
       "      <td>Management, Manufacturing</td>\n",
       "      <td>Entry level</td>\n",
       "    </tr>\n",
       "    <tr>\n",
       "      <th>4</th>\n",
       "      <td>3757937095</td>\n",
       "      <td>437225</td>\n",
       "      <td>iHerb, LLC</td>\n",
       "      <td>California</td>\n",
       "      <td>US</td>\n",
       "      <td>Irvine</td>\n",
       "      <td>Information Technology</td>\n",
       "      <td>Mid-Senior level</td>\n",
       "    </tr>\n",
       "  </tbody>\n",
       "</table>\n",
       "</div>"
      ],
      "text/plain": [
       "       job_id  company_id                                  name       state  \\\n",
       "0  3757940104      553718                           HearingLife  New Jersey   \n",
       "1  3757940025     2192142          Metalcraft of Mayville, Inc.          WI   \n",
       "2  3757938019      474443  U.S. Tsubaki Power Transmission, LLC    Illinois   \n",
       "3  3757938018    18213359      Episcopal Communities & Services  California   \n",
       "4  3757937095      437225                            iHerb, LLC  California   \n",
       "\n",
       "  country      city                 skill_name formatted_experience_level  \n",
       "0      US  Somerset                      Other                Entry level  \n",
       "1      US  Mayville  Management, Manufacturing                        NaN  \n",
       "2      US  Wheeling                Engineering                        NaN  \n",
       "3      US  Altadena  Management, Manufacturing                Entry level  \n",
       "4      US    Irvine     Information Technology           Mid-Senior level  "
      ]
     },
     "execution_count": 57,
     "metadata": {},
     "output_type": "execute_result"
    }
   ],
   "source": [
    "column_order = ['job_id','company_id','name','state','country','city','skill_name','formatted_experience_level']\n",
    "merged_data = merged_data[column_order]\n",
    "merged_data.head()"
   ]
  },
  {
   "cell_type": "markdown",
   "metadata": {},
   "source": [
    "### Handling merge with Employee Count"
   ]
  },
  {
   "cell_type": "code",
   "execution_count": 58,
   "metadata": {},
   "outputs": [
    {
     "data": {
      "text/html": [
       "<div>\n",
       "<style scoped>\n",
       "    .dataframe tbody tr th:only-of-type {\n",
       "        vertical-align: middle;\n",
       "    }\n",
       "\n",
       "    .dataframe tbody tr th {\n",
       "        vertical-align: top;\n",
       "    }\n",
       "\n",
       "    .dataframe thead th {\n",
       "        text-align: right;\n",
       "    }\n",
       "</style>\n",
       "<table border=\"1\" class=\"dataframe\">\n",
       "  <thead>\n",
       "    <tr style=\"text-align: right;\">\n",
       "      <th></th>\n",
       "      <th>company_id</th>\n",
       "      <th>employee_count</th>\n",
       "      <th>follower_count</th>\n",
       "      <th>time_recorded</th>\n",
       "    </tr>\n",
       "  </thead>\n",
       "  <tbody>\n",
       "    <tr>\n",
       "      <th>6221</th>\n",
       "      <td>1009</td>\n",
       "      <td>308001</td>\n",
       "      <td>15467710</td>\n",
       "      <td>1.698964e+09</td>\n",
       "    </tr>\n",
       "    <tr>\n",
       "      <th>10890</th>\n",
       "      <td>1016</td>\n",
       "      <td>54639</td>\n",
       "      <td>2065363</td>\n",
       "      <td>1.699063e+09</td>\n",
       "    </tr>\n",
       "    <tr>\n",
       "      <th>11177</th>\n",
       "      <td>1021</td>\n",
       "      <td>26591</td>\n",
       "      <td>2318150</td>\n",
       "      <td>1.699066e+09</td>\n",
       "    </tr>\n",
       "    <tr>\n",
       "      <th>14237</th>\n",
       "      <td>1025</td>\n",
       "      <td>71428</td>\n",
       "      <td>3540445</td>\n",
       "      <td>1.699140e+09</td>\n",
       "    </tr>\n",
       "    <tr>\n",
       "      <th>13438</th>\n",
       "      <td>1028</td>\n",
       "      <td>199479</td>\n",
       "      <td>9099428</td>\n",
       "      <td>1.699134e+09</td>\n",
       "    </tr>\n",
       "  </tbody>\n",
       "</table>\n",
       "</div>"
      ],
      "text/plain": [
       "       company_id  employee_count  follower_count  time_recorded\n",
       "6221         1009          308001        15467710   1.698964e+09\n",
       "10890        1016           54639         2065363   1.699063e+09\n",
       "11177        1021           26591         2318150   1.699066e+09\n",
       "14237        1025           71428         3540445   1.699140e+09\n",
       "13438        1028          199479         9099428   1.699134e+09"
      ]
     },
     "execution_count": 58,
     "metadata": {},
     "output_type": "execute_result"
    }
   ],
   "source": [
    "df_sorted = employee_count.sort_values(by=['company_id', 'time_recorded'], ascending=[True, False])\n",
    "\n",
    "# Drop duplicates keeping the first occurrence, which is the latest due to the sorting.\n",
    "df_unique = df_sorted.drop_duplicates(subset='company_id', keep='first')\n",
    "df_unique.head()"
   ]
  },
  {
   "cell_type": "code",
   "execution_count": 59,
   "metadata": {},
   "outputs": [
    {
     "data": {
      "text/html": [
       "<div>\n",
       "<style scoped>\n",
       "    .dataframe tbody tr th:only-of-type {\n",
       "        vertical-align: middle;\n",
       "    }\n",
       "\n",
       "    .dataframe tbody tr th {\n",
       "        vertical-align: top;\n",
       "    }\n",
       "\n",
       "    .dataframe thead th {\n",
       "        text-align: right;\n",
       "    }\n",
       "</style>\n",
       "<table border=\"1\" class=\"dataframe\">\n",
       "  <thead>\n",
       "    <tr style=\"text-align: right;\">\n",
       "      <th></th>\n",
       "      <th>job_id</th>\n",
       "      <th>company_id</th>\n",
       "      <th>name</th>\n",
       "      <th>state</th>\n",
       "      <th>country</th>\n",
       "      <th>city</th>\n",
       "      <th>skill_name</th>\n",
       "      <th>formatted_experience_level</th>\n",
       "      <th>employee_count</th>\n",
       "      <th>follower_count</th>\n",
       "    </tr>\n",
       "  </thead>\n",
       "  <tbody>\n",
       "    <tr>\n",
       "      <th>0</th>\n",
       "      <td>3757940104</td>\n",
       "      <td>553718</td>\n",
       "      <td>HearingLife</td>\n",
       "      <td>New Jersey</td>\n",
       "      <td>US</td>\n",
       "      <td>Somerset</td>\n",
       "      <td>Other</td>\n",
       "      <td>Entry level</td>\n",
       "      <td>1171.0</td>\n",
       "      <td>11417.0</td>\n",
       "    </tr>\n",
       "    <tr>\n",
       "      <th>1</th>\n",
       "      <td>3757940025</td>\n",
       "      <td>2192142</td>\n",
       "      <td>Metalcraft of Mayville, Inc.</td>\n",
       "      <td>WI</td>\n",
       "      <td>US</td>\n",
       "      <td>Mayville</td>\n",
       "      <td>Management, Manufacturing</td>\n",
       "      <td>NaN</td>\n",
       "      <td>300.0</td>\n",
       "      <td>2923.0</td>\n",
       "    </tr>\n",
       "    <tr>\n",
       "      <th>2</th>\n",
       "      <td>3757938019</td>\n",
       "      <td>474443</td>\n",
       "      <td>U.S. Tsubaki Power Transmission, LLC</td>\n",
       "      <td>Illinois</td>\n",
       "      <td>US</td>\n",
       "      <td>Wheeling</td>\n",
       "      <td>Engineering</td>\n",
       "      <td>NaN</td>\n",
       "      <td>314.0</td>\n",
       "      <td>8487.0</td>\n",
       "    </tr>\n",
       "    <tr>\n",
       "      <th>3</th>\n",
       "      <td>3757938018</td>\n",
       "      <td>18213359</td>\n",
       "      <td>Episcopal Communities &amp; Services</td>\n",
       "      <td>California</td>\n",
       "      <td>US</td>\n",
       "      <td>Altadena</td>\n",
       "      <td>Management, Manufacturing</td>\n",
       "      <td>Entry level</td>\n",
       "      <td>36.0</td>\n",
       "      <td>305.0</td>\n",
       "    </tr>\n",
       "    <tr>\n",
       "      <th>4</th>\n",
       "      <td>3757937095</td>\n",
       "      <td>437225</td>\n",
       "      <td>iHerb, LLC</td>\n",
       "      <td>California</td>\n",
       "      <td>US</td>\n",
       "      <td>Irvine</td>\n",
       "      <td>Information Technology</td>\n",
       "      <td>Mid-Senior level</td>\n",
       "      <td>1260.0</td>\n",
       "      <td>51651.0</td>\n",
       "    </tr>\n",
       "  </tbody>\n",
       "</table>\n",
       "</div>"
      ],
      "text/plain": [
       "       job_id  company_id                                  name       state  \\\n",
       "0  3757940104      553718                           HearingLife  New Jersey   \n",
       "1  3757940025     2192142          Metalcraft of Mayville, Inc.          WI   \n",
       "2  3757938019      474443  U.S. Tsubaki Power Transmission, LLC    Illinois   \n",
       "3  3757938018    18213359      Episcopal Communities & Services  California   \n",
       "4  3757937095      437225                            iHerb, LLC  California   \n",
       "\n",
       "  country      city                 skill_name formatted_experience_level  \\\n",
       "0      US  Somerset                      Other                Entry level   \n",
       "1      US  Mayville  Management, Manufacturing                        NaN   \n",
       "2      US  Wheeling                Engineering                        NaN   \n",
       "3      US  Altadena  Management, Manufacturing                Entry level   \n",
       "4      US    Irvine     Information Technology           Mid-Senior level   \n",
       "\n",
       "   employee_count  follower_count  \n",
       "0          1171.0         11417.0  \n",
       "1           300.0          2923.0  \n",
       "2           314.0          8487.0  \n",
       "3            36.0           305.0  \n",
       "4          1260.0         51651.0  "
      ]
     },
     "execution_count": 59,
     "metadata": {},
     "output_type": "execute_result"
    }
   ],
   "source": [
    "merged_data = merged_data.merge(df_unique, on='company_id', how='left')\n",
    "columns_to_drop = ['time_recorded']\n",
    "merged_data= merged_data.drop(columns=columns_to_drop,axis=1)\n",
    "merged_data.head()\n"
   ]
  },
  {
   "cell_type": "markdown",
   "metadata": {},
   "source": [
    "#### Identify remaining missing data in the merged dataset\n",
    "Display columns with significant missing data"
   ]
  },
  {
   "cell_type": "code",
   "execution_count": 60,
   "metadata": {},
   "outputs": [
    {
     "data": {
      "text/plain": [
       "employee_count                   2\n",
       "follower_count                   2\n",
       "country                         47\n",
       "city                            48\n",
       "name                            51\n",
       "state                           58\n",
       "skill_name                    1023\n",
       "formatted_experience_level    8622\n",
       "dtype: int64"
      ]
     },
     "execution_count": 60,
     "metadata": {},
     "output_type": "execute_result"
    }
   ],
   "source": [
    "missing_data = merged_data.isnull().sum()\n",
    "significant_missing_columns = missing_data[missing_data > 0].sort_values(ascending=True)\n",
    "significant_missing_columns"
   ]
  },
  {
   "cell_type": "markdown",
   "metadata": {},
   "source": [
    "Handling missing values of 'name' column"
   ]
  },
  {
   "cell_type": "code",
   "execution_count": 61,
   "metadata": {},
   "outputs": [
    {
     "name": "stdout",
     "output_type": "stream",
     "text": [
      "Number of missing ID's: 51\n",
      "7305     76999667\n",
      "15698     3641332\n",
      "15706     3641332\n",
      "15968     3641332\n",
      "16405     3641332\n",
      "20379      165957\n",
      "20382     2313067\n",
      "20384     3079381\n",
      "20385      272676\n",
      "20387    64734122\n",
      "20389    27116461\n",
      "20391     4316275\n",
      "20392     1124883\n",
      "20393    19115854\n",
      "20394     1485063\n",
      "25366        2815\n",
      "25369     3514329\n",
      "25380     9215353\n",
      "25381    26489605\n",
      "25382    79378951\n",
      "25388    34771768\n",
      "32290    91187899\n",
      "32294     9516195\n",
      "32296    89908682\n",
      "32297    18872958\n",
      "32298       35602\n",
      "32300    18630069\n",
      "32302        3657\n",
      "32304    14615655\n",
      "32305       88684\n",
      "32306    10563070\n",
      "32307      371180\n",
      "32308     2902815\n",
      "32309    90633414\n",
      "32310    20338460\n",
      "32311     2899710\n",
      "32312      145145\n",
      "32314       90844\n",
      "32315     1434753\n",
      "32316     7573454\n",
      "32317     4781041\n",
      "32318      718651\n",
      "32319    86746333\n",
      "32320    82296828\n",
      "32321    82684341\n",
      "32322    96649998\n",
      "32323     2641066\n",
      "32355     6049228\n",
      "32525    10033339\n",
      "32536    81149246\n",
      "32580    16265700\n",
      "Name: company_id, dtype: Int64\n"
     ]
    }
   ],
   "source": [
    "# After merging, 51 rows of company references in job_postings were non existent in the company id's dataset. \n",
    "missing_names = merged_data['name'].isnull().sum()\n",
    "\n",
    "null_name_indices = merged_data[merged_data['name'].isnull()]['company_id']\n",
    "print(\"Number of missing ID's:\", missing_names)\n",
    "print(null_name_indices)"
   ]
  },
  {
   "cell_type": "code",
   "execution_count": 62,
   "metadata": {},
   "outputs": [],
   "source": [
    "merged_data.to_csv('data_preprocessed/merged_data.csv', index=False)"
   ]
  },
  {
   "cell_type": "markdown",
   "metadata": {},
   "source": [
    "Dropping columns where name is null"
   ]
  },
  {
   "cell_type": "code",
   "execution_count": 63,
   "metadata": {},
   "outputs": [],
   "source": [
    "# 'name' of companies that did not exist in companies.csv, but did in job_postings.csv, are null\n",
    "merged_data.dropna(subset=['name'], inplace=True)"
   ]
  },
  {
   "cell_type": "markdown",
   "metadata": {},
   "source": [
    "Handling missing values of 'skill_name' column"
   ]
  },
  {
   "cell_type": "code",
   "execution_count": 64,
   "metadata": {},
   "outputs": [],
   "source": [
    "# Handling missing values of 'skill_name' column\n",
    "col_skill_fill_other = ['skill_name']\n",
    "for col in col_skill_fill_other:\n",
    "    merged_data[col].fillna(\"Other\", inplace=True)"
   ]
  },
  {
   "cell_type": "markdown",
   "metadata": {},
   "source": [
    "Handling missing values of 'formatted_experience_level' column"
   ]
  },
  {
   "cell_type": "code",
   "execution_count": 65,
   "metadata": {},
   "outputs": [],
   "source": [
    "# Categorical columns with missing values are filled with \"Not Specified\"\n",
    "col_experience_fill_not_specified = ['formatted_experience_level']\n",
    "for col in col_experience_fill_not_specified:\n",
    "    merged_data[col].fillna(\"Not Specified\", inplace=True)\n"
   ]
  },
  {
   "cell_type": "markdown",
   "metadata": {},
   "source": [
    "Remove null values in state, city, employee_count and follower_count"
   ]
  },
  {
   "cell_type": "code",
   "execution_count": 66,
   "metadata": {},
   "outputs": [],
   "source": [
    "merged_data = merged_data.dropna(subset=['state','city','employee_count','follower_count'])"
   ]
  },
  {
   "cell_type": "code",
   "execution_count": 67,
   "metadata": {},
   "outputs": [],
   "source": [
    "merged_data = merged_data[merged_data['state'] != '0']\n",
    "merged_data = merged_data[merged_data['city'] != '0']\n",
    "merged_data = merged_data[merged_data['country'] != '0']"
   ]
  },
  {
   "cell_type": "markdown",
   "metadata": {},
   "source": [
    "Check for remaining missing values"
   ]
  },
  {
   "cell_type": "code",
   "execution_count": 68,
   "metadata": {},
   "outputs": [
    {
     "data": {
      "text/plain": [
       "Series([], dtype: int64)"
      ]
     },
     "execution_count": 68,
     "metadata": {},
     "output_type": "execute_result"
    }
   ],
   "source": [
    "remaining_missing = merged_data.isnull().sum()\n",
    "remaining_missing_cols = remaining_missing[remaining_missing > 0].sort_values(ascending=False)\n",
    "remaining_missing_cols"
   ]
  },
  {
   "cell_type": "markdown",
   "metadata": {},
   "source": [
    "#### Categorizing experience level"
   ]
  },
  {
   "cell_type": "code",
   "execution_count": 69,
   "metadata": {},
   "outputs": [
    {
     "name": "stdout",
     "output_type": "stream",
     "text": [
      "Entry level\n",
      "Not Specified\n",
      "Mid-Senior level\n",
      "Director\n",
      "Associate\n",
      "Executive\n",
      "Internship\n"
     ]
    }
   ],
   "source": [
    "# Data Transformation\n",
    "experience_levels = merged_data['formatted_experience_level'].unique()\n",
    "\n",
    "for value in experience_levels:\n",
    "    print(value)\n"
   ]
  },
  {
   "cell_type": "markdown",
   "metadata": {},
   "source": [
    "Mapping experience to their numeric new values"
   ]
  },
  {
   "cell_type": "code",
   "execution_count": 70,
   "metadata": {},
   "outputs": [],
   "source": [
    "experience_mapping = {\n",
    "    'Internship': 0,\n",
    "    'Entry level': 1,\n",
    "    'Associate':2, \n",
    "    'Mid-Senior level': 3,\n",
    "    'Director': 4,\n",
    "    'Executive': 5,\n",
    "    'Not Specified': 6\n",
    "}\n",
    "\n",
    "merged_data['formatted_experience_level'] = merged_data['formatted_experience_level'].map(experience_mapping)"
   ]
  },
  {
   "cell_type": "markdown",
   "metadata": {},
   "source": [
    "#### Cleaning data in 'name' attribute"
   ]
  },
  {
   "cell_type": "code",
   "execution_count": 71,
   "metadata": {},
   "outputs": [],
   "source": [
    "def clean_company_names(name):\n",
    "\n",
    "    # Remove special characters, except spaces and dots\n",
    "    name = re.sub(r'[^a-zA-Z0-9\\w\\s\\.]', '', name)\n",
    "\n",
    "    # Remove extra spaces\n",
    "    name = re.sub(r'\\s+', ' ', name).strip()\n",
    "\n",
    "    # Handle hyphens and apostrophes\n",
    "    name = name.replace('-', ' ')  # Replace hyphens with spaces\n",
    "    name = name.replace('\\'', '')  # Remove apostrophes\n",
    "    name = re.sub(r'\\s+', ' ', name)\n",
    "\n",
    "    return name\n",
    "\n",
    "merged_data['name'] = merged_data['name'].apply(clean_company_names)"
   ]
  },
  {
   "cell_type": "markdown",
   "metadata": {},
   "source": [
    "#### Preprocessed Dataset"
   ]
  },
  {
   "cell_type": "markdown",
   "metadata": {},
   "source": [
    "Shape of the cleaned data"
   ]
  },
  {
   "cell_type": "code",
   "execution_count": 72,
   "metadata": {},
   "outputs": [
    {
     "data": {
      "text/plain": [
       "(30338, 10)"
      ]
     },
     "execution_count": 72,
     "metadata": {},
     "output_type": "execute_result"
    }
   ],
   "source": [
    "merged_data_cleaned = merged_data\n",
    "merged_data_cleaned.shape"
   ]
  },
  {
   "cell_type": "markdown",
   "metadata": {},
   "source": [
    "Rename column names "
   ]
  },
  {
   "cell_type": "code",
   "execution_count": 73,
   "metadata": {},
   "outputs": [],
   "source": [
    "\n",
    "merged_data_cleaned = merged_data_cleaned.rename(columns={'name':'company','skill_name':'required_skill',\n",
    "                                                           'formatted_experience_level':'experience_level'})\n",
    "\n",
    "merged_data_cleaned = merged_data_cleaned.sort_values('job_id', ascending=False)\n",
    "\n"
   ]
  },
  {
   "cell_type": "code",
   "execution_count": 74,
   "metadata": {},
   "outputs": [],
   "source": [
    "merged_data_cleaned['employee_count'] = merged_data_cleaned['employee_count'].astype(int)\n",
    "merged_data_cleaned['follower_count'] = merged_data_cleaned['follower_count'].astype(int)"
   ]
  },
  {
   "cell_type": "markdown",
   "metadata": {},
   "source": [
    "Display"
   ]
  },
  {
   "cell_type": "code",
   "execution_count": 75,
   "metadata": {},
   "outputs": [
    {
     "data": {
      "text/html": [
       "<div>\n",
       "<style scoped>\n",
       "    .dataframe tbody tr th:only-of-type {\n",
       "        vertical-align: middle;\n",
       "    }\n",
       "\n",
       "    .dataframe tbody tr th {\n",
       "        vertical-align: top;\n",
       "    }\n",
       "\n",
       "    .dataframe thead th {\n",
       "        text-align: right;\n",
       "    }\n",
       "</style>\n",
       "<table border=\"1\" class=\"dataframe\">\n",
       "  <thead>\n",
       "    <tr style=\"text-align: right;\">\n",
       "      <th></th>\n",
       "      <th>job_id</th>\n",
       "      <th>company_id</th>\n",
       "      <th>company</th>\n",
       "      <th>state</th>\n",
       "      <th>country</th>\n",
       "      <th>city</th>\n",
       "      <th>required_skill</th>\n",
       "      <th>experience_level</th>\n",
       "      <th>employee_count</th>\n",
       "      <th>follower_count</th>\n",
       "    </tr>\n",
       "  </thead>\n",
       "  <tbody>\n",
       "    <tr>\n",
       "      <th>0</th>\n",
       "      <td>3757940104</td>\n",
       "      <td>553718</td>\n",
       "      <td>HearingLife</td>\n",
       "      <td>New Jersey</td>\n",
       "      <td>US</td>\n",
       "      <td>Somerset</td>\n",
       "      <td>Other</td>\n",
       "      <td>1</td>\n",
       "      <td>1171</td>\n",
       "      <td>11417</td>\n",
       "    </tr>\n",
       "    <tr>\n",
       "      <th>1</th>\n",
       "      <td>3757940025</td>\n",
       "      <td>2192142</td>\n",
       "      <td>Metalcraft of Mayville Inc.</td>\n",
       "      <td>WI</td>\n",
       "      <td>US</td>\n",
       "      <td>Mayville</td>\n",
       "      <td>Management, Manufacturing</td>\n",
       "      <td>6</td>\n",
       "      <td>300</td>\n",
       "      <td>2923</td>\n",
       "    </tr>\n",
       "    <tr>\n",
       "      <th>2</th>\n",
       "      <td>3757938019</td>\n",
       "      <td>474443</td>\n",
       "      <td>U.S. Tsubaki Power Transmission LLC</td>\n",
       "      <td>Illinois</td>\n",
       "      <td>US</td>\n",
       "      <td>Wheeling</td>\n",
       "      <td>Engineering</td>\n",
       "      <td>6</td>\n",
       "      <td>314</td>\n",
       "      <td>8487</td>\n",
       "    </tr>\n",
       "    <tr>\n",
       "      <th>3</th>\n",
       "      <td>3757938018</td>\n",
       "      <td>18213359</td>\n",
       "      <td>Episcopal Communities Services</td>\n",
       "      <td>California</td>\n",
       "      <td>US</td>\n",
       "      <td>Altadena</td>\n",
       "      <td>Management, Manufacturing</td>\n",
       "      <td>1</td>\n",
       "      <td>36</td>\n",
       "      <td>305</td>\n",
       "    </tr>\n",
       "    <tr>\n",
       "      <th>4</th>\n",
       "      <td>3757937095</td>\n",
       "      <td>437225</td>\n",
       "      <td>iHerb LLC</td>\n",
       "      <td>California</td>\n",
       "      <td>US</td>\n",
       "      <td>Irvine</td>\n",
       "      <td>Information Technology</td>\n",
       "      <td>3</td>\n",
       "      <td>1260</td>\n",
       "      <td>51651</td>\n",
       "    </tr>\n",
       "    <tr>\n",
       "      <th>...</th>\n",
       "      <td>...</td>\n",
       "      <td>...</td>\n",
       "      <td>...</td>\n",
       "      <td>...</td>\n",
       "      <td>...</td>\n",
       "      <td>...</td>\n",
       "      <td>...</td>\n",
       "      <td>...</td>\n",
       "      <td>...</td>\n",
       "      <td>...</td>\n",
       "    </tr>\n",
       "    <tr>\n",
       "      <th>32586</th>\n",
       "      <td>529257371</td>\n",
       "      <td>1244539</td>\n",
       "      <td>Ken Fulk Inc</td>\n",
       "      <td>California</td>\n",
       "      <td>US</td>\n",
       "      <td>San Francisco</td>\n",
       "      <td>Design, Art/Creative, Information Technology</td>\n",
       "      <td>6</td>\n",
       "      <td>87</td>\n",
       "      <td>9790</td>\n",
       "    </tr>\n",
       "    <tr>\n",
       "      <th>32587</th>\n",
       "      <td>381055942</td>\n",
       "      <td>96654609</td>\n",
       "      <td>First Baptist Church Forney</td>\n",
       "      <td>Texas</td>\n",
       "      <td>US</td>\n",
       "      <td>Forney</td>\n",
       "      <td>Other</td>\n",
       "      <td>6</td>\n",
       "      <td>0</td>\n",
       "      <td>0</td>\n",
       "    </tr>\n",
       "    <tr>\n",
       "      <th>32588</th>\n",
       "      <td>133196985</td>\n",
       "      <td>1089558</td>\n",
       "      <td>Employvision Inc.</td>\n",
       "      <td>New Jersey</td>\n",
       "      <td>US</td>\n",
       "      <td>Somerset</td>\n",
       "      <td>Accounting/Auditing, Finance</td>\n",
       "      <td>6</td>\n",
       "      <td>50</td>\n",
       "      <td>16176</td>\n",
       "    </tr>\n",
       "    <tr>\n",
       "      <th>32589</th>\n",
       "      <td>133114754</td>\n",
       "      <td>77766802</td>\n",
       "      <td>CargoLogin.</td>\n",
       "      <td>California</td>\n",
       "      <td>US</td>\n",
       "      <td>Santa Clarita</td>\n",
       "      <td>Sales, Business Development</td>\n",
       "      <td>6</td>\n",
       "      <td>15</td>\n",
       "      <td>159</td>\n",
       "    </tr>\n",
       "    <tr>\n",
       "      <th>32591</th>\n",
       "      <td>3958427</td>\n",
       "      <td>630152</td>\n",
       "      <td>Karen Marie Salon</td>\n",
       "      <td>Illinois</td>\n",
       "      <td>US</td>\n",
       "      <td>Chicago</td>\n",
       "      <td>Design, Art/Creative, Information Technology</td>\n",
       "      <td>6</td>\n",
       "      <td>3</td>\n",
       "      <td>30</td>\n",
       "    </tr>\n",
       "  </tbody>\n",
       "</table>\n",
       "<p>30338 rows × 10 columns</p>\n",
       "</div>"
      ],
      "text/plain": [
       "           job_id  company_id                              company  \\\n",
       "0      3757940104      553718                          HearingLife   \n",
       "1      3757940025     2192142          Metalcraft of Mayville Inc.   \n",
       "2      3757938019      474443  U.S. Tsubaki Power Transmission LLC   \n",
       "3      3757938018    18213359       Episcopal Communities Services   \n",
       "4      3757937095      437225                            iHerb LLC   \n",
       "...           ...         ...                                  ...   \n",
       "32586   529257371     1244539                         Ken Fulk Inc   \n",
       "32587   381055942    96654609          First Baptist Church Forney   \n",
       "32588   133196985     1089558                    Employvision Inc.   \n",
       "32589   133114754    77766802                          CargoLogin.   \n",
       "32591     3958427      630152                    Karen Marie Salon   \n",
       "\n",
       "            state country           city  \\\n",
       "0      New Jersey      US       Somerset   \n",
       "1              WI      US       Mayville   \n",
       "2        Illinois      US       Wheeling   \n",
       "3      California      US       Altadena   \n",
       "4      California      US         Irvine   \n",
       "...           ...     ...            ...   \n",
       "32586  California      US  San Francisco   \n",
       "32587       Texas      US         Forney   \n",
       "32588  New Jersey      US       Somerset   \n",
       "32589  California      US  Santa Clarita   \n",
       "32591    Illinois      US        Chicago   \n",
       "\n",
       "                                     required_skill  experience_level  \\\n",
       "0                                             Other                 1   \n",
       "1                         Management, Manufacturing                 6   \n",
       "2                                       Engineering                 6   \n",
       "3                         Management, Manufacturing                 1   \n",
       "4                            Information Technology                 3   \n",
       "...                                             ...               ...   \n",
       "32586  Design, Art/Creative, Information Technology                 6   \n",
       "32587                                         Other                 6   \n",
       "32588                  Accounting/Auditing, Finance                 6   \n",
       "32589                   Sales, Business Development                 6   \n",
       "32591  Design, Art/Creative, Information Technology                 6   \n",
       "\n",
       "       employee_count  follower_count  \n",
       "0                1171           11417  \n",
       "1                 300            2923  \n",
       "2                 314            8487  \n",
       "3                  36             305  \n",
       "4                1260           51651  \n",
       "...               ...             ...  \n",
       "32586              87            9790  \n",
       "32587               0               0  \n",
       "32588              50           16176  \n",
       "32589              15             159  \n",
       "32591               3              30  \n",
       "\n",
       "[30338 rows x 10 columns]"
      ]
     },
     "execution_count": 75,
     "metadata": {},
     "output_type": "execute_result"
    }
   ],
   "source": [
    "merged_data_cleaned"
   ]
  },
  {
   "cell_type": "markdown",
   "metadata": {},
   "source": [
    "Save the preprocessed dataset to data_preprocessed.csv"
   ]
  },
  {
   "cell_type": "code",
   "execution_count": 79,
   "metadata": {},
   "outputs": [],
   "source": [
    "merged_data_cleaned.to_csv('data_preprocessed/job_postings.csv', index=False)"
   ]
  },
  {
   "cell_type": "markdown",
   "metadata": {},
   "source": [
    "### Prediction Model\n",
    "#### Target: Predict employees future in the company based on the number of job postings that a company posted, skills and experience level they requried, and their employee count."
   ]
  },
  {
   "cell_type": "code",
   "execution_count": 81,
   "metadata": {},
   "outputs": [],
   "source": [
    "data = merged_data_cleaned"
   ]
  },
  {
   "cell_type": "code",
   "execution_count": 87,
   "metadata": {},
   "outputs": [
    {
     "name": "stdout",
     "output_type": "stream",
     "text": [
      "Correlation Matrix:\n",
      "                         required_skill_encoded  experience_level  \\\n",
      "required_skill_encoded                1.000000          0.052080   \n",
      "experience_level                      0.052080          1.000000   \n",
      "employee_count                        0.041069          0.028513   \n",
      "follower_count                        0.023655          0.065940   \n",
      "job_stability                        -0.000321          0.000977   \n",
      "\n",
      "                        employee_count  follower_count  job_stability  \n",
      "required_skill_encoded        0.041069        0.023655      -0.000321  \n",
      "experience_level              0.028513        0.065940       0.000977  \n",
      "employee_count                1.000000        0.809043      -0.002515  \n",
      "follower_count                0.809043        1.000000       0.002568  \n",
      "job_stability                -0.002515        0.002568       1.000000  \n",
      "\n",
      "Covariance Matrix:\n",
      "                         required_skill_encoded  experience_level  \\\n",
      "required_skill_encoded            1.780841e+05         41.376356   \n",
      "experience_level                  4.137636e+01          3.544317   \n",
      "employee_count                    1.075305e+06       3330.577934   \n",
      "follower_count                    2.700493e+07     335830.829828   \n",
      "job_stability                    -5.395194e-02          0.000733   \n",
      "\n",
      "                        employee_count  follower_count  job_stability  \n",
      "required_skill_encoded    1.075305e+06    2.700493e+07      -0.053952  \n",
      "experience_level          3.330578e+03    3.358308e+05       0.000733  \n",
      "employee_count            3.849581e+09    1.357952e+11     -62.221072  \n",
      "follower_count            1.357952e+11    7.318336e+12    2770.524082  \n",
      "job_stability            -6.222107e+01    2.770524e+03       0.159042  \n",
      "[LightGBM] [Info] Number of positive: 19450, number of negative: 4820\n",
      "[LightGBM] [Info] Auto-choosing col-wise multi-threading, the overhead of testing was 0.000761 seconds.\n",
      "You can set `force_col_wise=true` to remove the overhead.\n",
      "[LightGBM] [Info] Total Bins 770\n",
      "[LightGBM] [Info] Number of data points in the train set: 24270, number of used features: 4\n",
      "[LightGBM] [Info] [binary:BoostFromScore]: pavg=0.801401 -> initscore=1.395073\n",
      "[LightGBM] [Info] Start training from score 1.395073\n",
      "LightGBM - Accuracy: 0.8015820698747528\n",
      "CatBoost - Accuracy: 0.8012524719841793\n",
      "XGBoost - Accuracy: 0.7996044825313118\n"
     ]
    }
   ],
   "source": [
    "import pandas as pd\n",
    "import numpy as np\n",
    "from sklearn.model_selection import train_test_split\n",
    "from sklearn.preprocessing import LabelEncoder, StandardScaler\n",
    "from sklearn.metrics import accuracy_score, roc_auc_score\n",
    "import lightgbm as lgb\n",
    "import catboost as cb\n",
    "import xgboost as xgb\n",
    "\n",
    "# Creating a simulated target variable (job stability: 1 for stable, 0 for at risk)\n",
    "np.random.seed(42)\n",
    "data['job_stability'] = np.random.choice([0, 1], len(data), p=[0.2, 0.8])\n",
    "\n",
    "# Encoding categorical variables\n",
    "label_encoder = LabelEncoder()\n",
    "data['required_skill_encoded'] = label_encoder.fit_transform(data['required_skill'])\n",
    "\n",
    "# Selecting relevant features\n",
    "features = ['required_skill_encoded', 'experience_level', 'employee_count', 'follower_count']\n",
    "\n",
    "# Calculate correlation and covariance\n",
    "correlation = data[features + ['job_stability']].corr()\n",
    "covariance = data[features + ['job_stability']].cov()\n",
    "\n",
    "# Print correlation and covariance\n",
    "print(\"Correlation Matrix:\\n\", correlation)\n",
    "print(\"\\nCovariance Matrix:\\n\", covariance)\n",
    "\n",
    "# Splitting the Data\n",
    "X = data[features]\n",
    "y = data['job_stability']\n",
    "X_train, X_test, y_train, y_test = train_test_split(X, y, test_size=0.2, random_state=42)\n",
    "\n",
    "# Standardizing the data\n",
    "scaler = StandardScaler()\n",
    "X_train = scaler.fit_transform(X_train)\n",
    "X_test = scaler.transform(X_test)\n",
    "\n",
    "# Training the models\n",
    "models = {\n",
    "    'LightGBM': lgb.LGBMClassifier(random_state=42),\n",
    "    'CatBoost': cb.CatBoostClassifier(verbose=0, random_state=42),\n",
    "    'XGBoost': xgb.XGBClassifier(random_state=42)\n",
    "}\n",
    "\n",
    "results = {}\n",
    "\n",
    "for name, model in models.items():\n",
    "    model.fit(X_train, y_train)\n",
    "    pred = model.predict(X_test)\n",
    "    acc = accuracy_score(y_test, pred)\n",
    "    auc = roc_auc_score(y_test, pred)\n",
    "    results[name] = {'Accuracy': acc}\n",
    "\n",
    "# Display the results\n",
    "for model, metrics in results.items():\n",
    "    print(f\"{model} - Accuracy: {metrics['Accuracy']}\")"
   ]
  },
  {
   "cell_type": "code",
   "execution_count": 83,
   "metadata": {},
   "outputs": [],
   "source": [
    "data.to_csv('data_preprocessed/job_postings.csv', index=False)"
   ]
  }
 ],
 "metadata": {
  "kernelspec": {
   "display_name": "Python 3",
   "language": "python",
   "name": "python3"
  },
  "language_info": {
   "codemirror_mode": {
    "name": "ipython",
    "version": 3
   },
   "file_extension": ".py",
   "mimetype": "text/x-python",
   "name": "python",
   "nbconvert_exporter": "python",
   "pygments_lexer": "ipython3",
   "version": "3.11.1"
  }
 },
 "nbformat": 4,
 "nbformat_minor": 2
}
